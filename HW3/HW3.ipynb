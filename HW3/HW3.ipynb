{
  "nbformat": 4,
  "nbformat_minor": 0,
  "metadata": {
    "colab": {
      "name": "LATA-HW3.ipynb",
      "provenance": [],
      "collapsed_sections": [],
      "toc_visible": true
    },
    "kernelspec": {
      "name": "python3",
      "display_name": "Python 3"
    }
  },
  "cells": [
    {
      "cell_type": "markdown",
      "metadata": {
        "id": "f-DxLe4YcQ5M"
      },
      "source": [
        "# HW3"
      ]
    },
    {
      "cell_type": "markdown",
      "metadata": {
        "id": "AkqSvvyycdpb"
      },
      "source": [
        "If you are familiar with python, you can use your own command line to finish your homework!!\n",
        "### In ipynb, if starting with exclamation mark (!), which means the command is executed in shell."
      ]
    },
    {
      "cell_type": "markdown",
      "metadata": {
        "id": "n7APdS8Scg3b"
      },
      "source": [
        "## Let's download the homework file to colab!!\n",
        "Press the run button, and you will download HW3!!\n",
        "### This command will only need to be executed once!!"
      ]
    },
    {
      "cell_type": "code",
      "metadata": {
        "id": "9IKwpqtcbt7_",
        "colab": {
          "base_uri": "https://localhost:8080/"
        },
        "outputId": "82cdea46-5457-4739-ba00-729b09fb0026"
      },
      "source": [
        "!git clone https://github.com/Sologa/LA_hw3.git\n",
        "import os\n",
        "os.chdir('/content/LA_hw3')\n"
      ],
      "execution_count": 17,
      "outputs": [
        {
          "output_type": "stream",
          "text": [
            "Cloning into 'LA_hw3'...\n",
            "remote: Enumerating objects: 19, done.\u001b[K\n",
            "remote: Counting objects: 100% (19/19), done.\u001b[K\n",
            "remote: Compressing objects: 100% (18/18), done.\u001b[K\n",
            "remote: Total 19 (delta 0), reused 11 (delta 0), pack-reused 0\u001b[K\n",
            "Unpacking objects: 100% (19/19), done.\n"
          ],
          "name": "stdout"
        }
      ]
    },
    {
      "cell_type": "markdown",
      "metadata": {
        "id": "zy6Gc0YocvBq"
      },
      "source": [
        "# What you should do!\n",
        "After downloading the files, you should go to modify **hw3.py** to finsh your homework."
      ]
    },
    {
      "cell_type": "markdown",
      "metadata": {
        "id": "ZZMb_C2scx0q"
      },
      "source": [
        "# Must Run"
      ]
    },
    {
      "cell_type": "markdown",
      "metadata": {
        "id": "Si8Haj5bcyui"
      },
      "source": [
        "After finishing the first problem in **hw3.py**,  run the following command to get the answer sheet for problem 1 and 2.\n"
      ]
    },
    {
      "cell_type": "code",
      "metadata": {
        "colab": {
          "base_uri": "https://localhost:8080/"
        },
        "id": "cAR-kcwJo3ae",
        "outputId": "54a93adc-acfb-4a31-e8d3-c8d2b8b974ee"
      },
      "source": [
        "!ls"
      ],
      "execution_count": 16,
      "outputs": [
        {
          "output_type": "stream",
          "text": [
            "example_data  example_output  freq.png\thw3.py\n"
          ],
          "name": "stdout"
        }
      ]
    },
    {
      "cell_type": "code",
      "metadata": {
        "id": "M9OFlVP1c2Da"
      },
      "source": [
        "!python hw3.py example_data/test.txt ./"
      ],
      "execution_count": 31,
      "outputs": []
    },
    {
      "cell_type": "markdown",
      "metadata": {
        "id": "L6aWHZXmqPzw"
      },
      "source": [
        "# Demo\n",
        "## Load the wave and plot it!"
      ]
    },
    {
      "cell_type": "code",
      "metadata": {
        "id": "71eVID1eqIAx"
      },
      "source": [
        "import numpy as np\n",
        "from hw3 import plot_wave\n",
        "x = np.loadtxt('example_data/test.txt', dtype = np.float32).reshape(-1, 1)\n",
        "plot_wave(x, 'test_wave.png')"
      ],
      "execution_count": null,
      "outputs": []
    }
  ]
}