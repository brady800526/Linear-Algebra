{
  "nbformat": 4,
  "nbformat_minor": 0,
  "metadata": {
    "kernelspec": {
      "display_name": "Python 3",
      "language": "python",
      "name": "python3"
    },
    "language_info": {
      "codemirror_mode": {
        "name": "ipython",
        "version": 3
      },
      "file_extension": ".py",
      "mimetype": "text/x-python",
      "name": "python",
      "nbconvert_exporter": "python",
      "pygments_lexer": "ipython3",
      "version": "3.6.8"
    },
    "colab": {
      "name": "「HW1.ipynb」的副本",
      "provenance": [],
      "toc_visible": true,
      "include_colab_link": true
    }
  },
  "cells": [
    {
      "cell_type": "markdown",
      "metadata": {
        "id": "view-in-github",
        "colab_type": "text"
      },
      "source": [
        "<a href=\"https://colab.research.google.com/github/brady800526/Linear-Algebra/blob/HW1/HW1.ipynb\" target=\"_parent\"><img src=\"https://colab.research.google.com/assets/colab-badge.svg\" alt=\"Open In Colab\"/></a>"
      ]
    },
    {
      "cell_type": "markdown",
      "metadata": {
        "id": "HP6Qn8GxGJhU"
      },
      "source": [
        "# HW1\n"
      ]
    },
    {
      "cell_type": "markdown",
      "metadata": {
        "id": "4edQKjsqGJhX"
      },
      "source": [
        "If you are familiar with python, you can use your own command line to finish your homework!!\n",
        "### In ipynb, if starting with exclamation mark (!), which means the command is executed in shell."
      ]
    },
    {
      "cell_type": "markdown",
      "metadata": {
        "id": "U-v50H6WGJhZ"
      },
      "source": [
        "## Let's download the homework file to colab!!\n",
        "Press the run button, and you will download HW1!!\n",
        "### This command will only need to be executed once!!"
      ]
    },
    {
      "cell_type": "code",
      "metadata": {
        "id": "g9Ve1AwVGJha",
        "colab": {
          "base_uri": "https://localhost:8080/",
          "height": 425
        },
        "outputId": "3d16e873-c07d-40e4-9059-114fc4784e3b"
      },
      "source": [
        "!pip install networkx\n",
        "!pip install scipy\n",
        "!git init\n",
        "!git remote add origin https://github.com/Sologa/HW1.git\n",
        "!git pull\n",
        "!git checkout master"
      ],
      "execution_count": null,
      "outputs": [
        {
          "output_type": "stream",
          "text": [
            "Requirement already satisfied: networkx in /usr/local/lib/python3.6/dist-packages (2.5)\n",
            "Requirement already satisfied: decorator>=4.3.0 in /usr/local/lib/python3.6/dist-packages (from networkx) (4.4.2)\n",
            "Requirement already satisfied: scipy in /usr/local/lib/python3.6/dist-packages (1.4.1)\n",
            "Requirement already satisfied: numpy>=1.13.3 in /usr/local/lib/python3.6/dist-packages (from scipy) (1.18.5)\n",
            "Initialized empty Git repository in /content/.git/\n",
            "remote: Enumerating objects: 59, done.\u001b[K\n",
            "remote: Counting objects: 100% (59/59), done.\u001b[K\n",
            "remote: Compressing objects: 100% (58/58), done.\u001b[K\n",
            "remote: Total 59 (delta 34), reused 2 (delta 1), pack-reused 0\u001b[K\n",
            "Unpacking objects: 100% (59/59), done.\n",
            "From https://github.com/Sologa/HW1\n",
            " * [new branch]      master     -> origin/master\n",
            "There is no tracking information for the current branch.\n",
            "Please specify which branch you want to merge with.\n",
            "See git-pull(1) for details.\n",
            "\n",
            "    git pull <remote> <branch>\n",
            "\n",
            "If you wish to set tracking information for this branch you can do so with:\n",
            "\n",
            "    git branch --set-upstream-to=origin/<branch> master\n",
            "\n",
            "Branch 'master' set up to track remote branch 'master' from 'origin'.\n",
            "Already on 'master'\n"
          ],
          "name": "stdout"
        }
      ]
    },
    {
      "cell_type": "markdown",
      "metadata": {
        "id": "9xsjbl91GJhj"
      },
      "source": [
        "# What you should do!\n",
        "After downloading the files, you should go to modify **p1.py** and **p2.py** to finsh your homework."
      ]
    },
    {
      "cell_type": "markdown",
      "metadata": {
        "id": "X2hlQ8WlGJhk"
      },
      "source": [
        "# Must Run"
      ]
    },
    {
      "cell_type": "markdown",
      "metadata": {
        "id": "VNlGldOsGJhm"
      },
      "source": [
        "After finishing the first problem in **p1.py**,  run the following command to test your code's correctness for problem 1.\n",
        "\n",
        "You should only run the command!  You should not modify the code in p1_main.py.\n"
      ]
    },
    {
      "cell_type": "code",
      "metadata": {
        "id": "lTWp9Nu8GJhn",
        "colab": {
          "base_uri": "https://localhost:8080/"
        },
        "outputId": "4f0cdf51-627f-40b8-d5bc-46a59caed6bc"
      },
      "source": [
        "!python p1_main.py b08901000"
      ],
      "execution_count": null,
      "outputs": [
        {
          "output_type": "stream",
          "text": [
            "Bug in the 3th graph. P1.\n",
            "Bug in the 5th graph. P1.\n"
          ],
          "name": "stdout"
        }
      ]
    },
    {
      "cell_type": "markdown",
      "metadata": {
        "id": "bGj75rB4GJhr"
      },
      "source": [
        "# Must Run"
      ]
    },
    {
      "cell_type": "markdown",
      "metadata": {
        "id": "Ih736dWqGJhs"
      },
      "source": [
        "After finishing the first problem in **p2.py**,  run the following command to test your code's correctness for problem 2.\n",
        "\n",
        "You should only run the command!  You should not modify the code in p1_main.py, or else you will not the credits for problem 2.\n"
      ]
    },
    {
      "cell_type": "code",
      "metadata": {
        "id": "E5Il0mrXGJhv"
      },
      "source": [
        "!python p2_main.py b08901000"
      ],
      "execution_count": null,
      "outputs": []
    },
    {
      "cell_type": "markdown",
      "metadata": {
        "id": "uaioSncoGJhy"
      },
      "source": [
        "The following is playground for you to debug, you can play around to test out your code!!\n",
        "# VERY IMPORTANT for ipynb\n",
        "if you modify functions in python code! If you have imported to the ipynb, you should close out the notebook and rerun to import your modified functions."
      ]
    },
    {
      "cell_type": "code",
      "metadata": {
        "id": "ATMsohD_GJhz"
      },
      "source": [
        "from graph_gen import *\n",
        "import numpy as np"
      ],
      "execution_count": null,
      "outputs": []
    },
    {
      "cell_type": "code",
      "metadata": {
        "id": "9ICVBTDWGJh3",
        "outputId": "c045c926-8fb4-4daa-9b4d-03bba6caddf7"
      },
      "source": [
        "student_id = 'b08901020'\n",
        "matrix = np.array(convert_p1(get_p1(student_id)[0]))\n",
        "matrix.shape"
      ],
      "execution_count": null,
      "outputs": [
        {
          "output_type": "execute_result",
          "data": {
            "text/plain": [
              "(40, 54)"
            ]
          },
          "metadata": {
            "tags": []
          },
          "execution_count": 36
        }
      ]
    },
    {
      "cell_type": "code",
      "metadata": {
        "id": "jpDtmx16GJh8"
      },
      "source": [
        ""
      ],
      "execution_count": null,
      "outputs": []
    }
  ]
}