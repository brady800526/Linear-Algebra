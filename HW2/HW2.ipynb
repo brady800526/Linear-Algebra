{
  "nbformat": 4,
  "nbformat_minor": 0,
  "metadata": {
    "colab": {
      "name": "HW2.ipynb",
      "provenance": [],
      "collapsed_sections": [],
      "toc_visible": true
    },
    "kernelspec": {
      "name": "python3",
      "display_name": "Python 3"
    }
  },
  "cells": [
    {
      "cell_type": "markdown",
      "metadata": {
        "id": "f-DxLe4YcQ5M"
      },
      "source": [
        "# HW2"
      ]
    },
    {
      "cell_type": "markdown",
      "metadata": {
        "id": "AkqSvvyycdpb"
      },
      "source": [
        "If you are familiar with python, you can use your own command line to finish your homework!!\n",
        "\n",
        "> Indented block\n",
        "\n",
        "\n",
        "### In ipynb, if starting with exclamation mark (!), which means the command is executed in shell."
      ]
    },
    {
      "cell_type": "markdown",
      "metadata": {
        "id": "n7APdS8Scg3b"
      },
      "source": [
        "## Let's download the homework file to colab!!\n",
        "Press the run button, and you will download HW2!!\n",
        "### This command will only need to be executed once!!"
      ]
    },
    {
      "cell_type": "code",
      "metadata": {
        "id": "9IKwpqtcbt7_",
        "colab": {
          "base_uri": "https://localhost:8080/",
          "height": 377
        },
        "outputId": "d804945d-ecbc-4639-a84a-89972a844cbe"
      },
      "source": [
        "!git init\n",
        "!git remote add origin https://github.com/LinearAlgebraLee/HW2.git\n",
        "!git pull\n",
        "!git checkout master"
      ],
      "execution_count": null,
      "outputs": [
        {
          "output_type": "stream",
          "text": [
            "Initialized empty Git repository in /content/.git/\n",
            "remote: Enumerating objects: 6, done.\u001b[K\n",
            "remote: Counting objects: 100% (6/6), done.\u001b[K\n",
            "remote: Compressing objects: 100% (6/6), done.\u001b[K\n",
            "remote: Total 6 (delta 0), reused 0 (delta 0), pack-reused 0\u001b[K\n",
            "Unpacking objects: 100% (6/6), done.\n",
            "From https://github.com/LinearAlgebraLee/HW2\n",
            " * [new branch]      master     -> origin/master\n",
            "There is no tracking information for the current branch.\n",
            "Please specify which branch you want to merge with.\n",
            "See git-pull(1) for details.\n",
            "\n",
            "    git pull <remote> <branch>\n",
            "\n",
            "If you wish to set tracking information for this branch you can do so with:\n",
            "\n",
            "    git branch --set-upstream-to=origin/<branch> master\n",
            "\n",
            "Branch 'master' set up to track remote branch 'master' from 'origin'.\n",
            "Already on 'master'\n"
          ],
          "name": "stdout"
        }
      ]
    },
    {
      "cell_type": "markdown",
      "metadata": {
        "id": "zy6Gc0YocvBq"
      },
      "source": [
        "# What you should do!\n",
        "After downloading the files, you should go to modify **p1.py** and **p2.py** to finsh your homework."
      ]
    },
    {
      "cell_type": "markdown",
      "metadata": {
        "id": "ZZMb_C2scx0q"
      },
      "source": [
        "# Must Run"
      ]
    },
    {
      "cell_type": "markdown",
      "metadata": {
        "id": "Si8Haj5bcyui"
      },
      "source": [
        "After finishing the first problem in **p1.py** and **p2.py**,  run the following command to get the answer sheet for problem 1 and 2.\n",
        "\n",
        "The input after the **main.py** should be your student id, or else you will not get full credits.\n",
        "\n",
        "You should only run the command!  You should not modify the code in main.py and util.py, or else you will not the credits.\n"
      ]
    },
    {
      "cell_type": "code",
      "metadata": {
        "id": "M9OFlVP1c2Da",
        "colab": {
          "base_uri": "https://localhost:8080/",
          "height": 34
        },
        "outputId": "27533e56-db04-4268-b32e-82c394ee318e"
      },
      "source": [
        "!python main.py b08901000"
      ],
      "execution_count": null,
      "outputs": [
        {
          "output_type": "stream",
          "text": [
            "python3: can't open file 'main.py': [Errno 2] No such file or directory\n"
          ],
          "name": "stdout"
        }
      ]
    },
    {
      "cell_type": "markdown",
      "metadata": {
        "id": "yGN6MQIFdWjR"
      },
      "source": [
        "The following is playground for you to debug, you can play around to test out your code!!\n",
        "# VERY IMPORTANT for ipynb\n",
        "if you modify functions in python code! If you have imported to the ipynb, you should close out the notebook and rerun to import your modified functions."
      ]
    },
    {
      "cell_type": "code",
      "metadata": {
        "id": "BnrglSS8fMyY"
      },
      "source": [
        "from util import mod_inv\n",
        "import numpy as np\n",
        "\n",
        "letters = 'ABCDEFGHIJKLMNOPQRSTUVWXYZ_.,?!'"
      ],
      "execution_count": null,
      "outputs": []
    },
    {
      "cell_type": "code",
      "metadata": {
        "id": "3vZTIiDHhCps",
        "colab": {
          "base_uri": "https://localhost:8080/",
          "height": 35
        },
        "outputId": "270e1507-4644-4a6f-f1f7-eb320dff0917"
      },
      "source": [
        "plain = 'IS_THAT_W'\n",
        "plain = [letters.index(i) for i in plain]\n",
        "print(plain)"
      ],
      "execution_count": null,
      "outputs": [
        {
          "output_type": "stream",
          "text": [
            "[8, 18, 26, 19, 7, 0, 19, 26, 22]\n"
          ],
          "name": "stdout"
        }
      ]
    },
    {
      "cell_type": "code",
      "metadata": {
        "id": "ceGQ76Rnke-g",
        "colab": {
          "base_uri": "https://localhost:8080/",
          "height": 71
        },
        "outputId": "84bc10a9-2dbc-4675-f93d-874d5ffbca1b"
      },
      "source": [
        "plain = np.reshape(plain, (3, 3)).T\n",
        "print(plain)"
      ],
      "execution_count": null,
      "outputs": [
        {
          "output_type": "stream",
          "text": [
            "[[ 8 19 19]\n",
            " [18  7 26]\n",
            " [26  0 22]]\n"
          ],
          "name": "stdout"
        }
      ]
    },
    {
      "cell_type": "code",
      "metadata": {
        "id": "RRlOMVYUiMls",
        "colab": {
          "base_uri": "https://localhost:8080/",
          "height": 125
        },
        "outputId": "12f5f796-63b6-4ec2-9af2-f9c5c71a88cb"
      },
      "source": [
        "key = '25 8 25 9 9 16 28 21 18'\n",
        "key = [int(k) for k in key.split()]\n",
        "key = np.array(key).reshape(3, 3)\n",
        "print(key)\n",
        "inv = mod_inv(key)\n",
        "print(inv)"
      ],
      "execution_count": null,
      "outputs": [
        {
          "output_type": "stream",
          "text": [
            "[[25  8 25]\n",
            " [ 9  9 16]\n",
            " [28 21 18]]\n",
            "[[ 5 27 19]\n",
            " [21 25  2]\n",
            " [28 27 25]]\n"
          ],
          "name": "stdout"
        }
      ]
    },
    {
      "cell_type": "code",
      "metadata": {
        "id": "6DU1QUhZpIgn",
        "colab": {
          "base_uri": "https://localhost:8080/",
          "height": 71
        },
        "outputId": "6dbff503-3858-45b0-8974-67d753d45def"
      },
      "source": [
        "cipher = np.mod(key @ plain, 31)\n",
        "cipher"
      ],
      "execution_count": null,
      "outputs": [
        {
          "output_type": "execute_result",
          "data": {
            "text/plain": [
              "array([[ 2,  4, 24],\n",
              "       [30, 17, 13],\n",
              "       [16, 28, 17]])"
            ]
          },
          "metadata": {
            "tags": []
          },
          "execution_count": 6
        }
      ]
    },
    {
      "cell_type": "code",
      "metadata": {
        "id": "S20Hp-xyko2I",
        "colab": {
          "base_uri": "https://localhost:8080/",
          "height": 35
        },
        "outputId": "3d3ba896-46c2-4d03-c42b-5636a8efa974"
      },
      "source": [
        "plain2text = []\n",
        "for p in plain.T.flatten():\n",
        "  plain2text.append(letters[p])\n",
        "print(''.join(plain2text))"
      ],
      "execution_count": null,
      "outputs": [
        {
          "output_type": "stream",
          "text": [
            "IS_THAT_W\n"
          ],
          "name": "stdout"
        }
      ]
    }
  ]
}